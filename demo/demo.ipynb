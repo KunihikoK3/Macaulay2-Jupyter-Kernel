{
 "cells": [
  {
   "cell_type": "markdown",
   "metadata": {},
   "source": [
    "# Demo"
   ]
  },
  {
   "cell_type": "markdown",
   "metadata": {},
   "source": [
    "Macaulay2 code can be written as is. This includes comments, multiple-line statements, loading packages, etc.\n",
    "By default, output is printed for the last stament only. This parallels IPython but the behaviour can be changed using cell magic."
   ]
  },
  {
   "cell_type": "code",
   "execution_count": 1,
   "metadata": {
    "scrolled": true
   },
   "outputs": [
    {
     "name": "stdout",
     "output_type": "stream",
     "text": [
      "\n",
      "o1 = {1, 9}\n",
      "\n",
      "o1 : List\n"
     ]
    }
   ],
   "source": [
    "for i from 1 to random(20) list\n",
    "    if i%2==1 then i*i else continue"
   ]
  },
  {
   "cell_type": "markdown",
   "metadata": {},
   "source": [
    "Code can be organized into cells.\n",
    "With full Markdown and good $\\TeX$ support, one can add mathematical discussions inline.\n",
    "For example:\n",
    "The cell below defines the twisted cubic $C$ over the rationals in two ways,\n",
    "as $\\text{Proj}~\\mathbb{Q}[s^3, s^2t, st^2, t^3]$ and the ideal of maximal minors of\n",
    "$$\n",
    "g=\n",
    "\\begin{bmatrix}\n",
    "x_0& x_1& x_2\\\\\n",
    "x_1& x_2& x_3\n",
    "\\end{bmatrix}\n",
    "$$\n",
    "It then checks that the two definitions agree."
   ]
  },
  {
   "cell_type": "code",
   "execution_count": 7,
   "metadata": {},
   "outputs": [],
   "source": [
    "S = QQ[x_0..x_3] -- the embedding space\n",
    "R = QQ[s,t]      -- P^1   \n",
    "f = map(R,S,{s^3, s^2*t, s*t^2, t^3})\n",
    "g = matrix({{x_0,x_1,x_2},{x_1,x_2,x_3}})\n",
    "C = ker f\n",
    "assert(C == minors(2, g))"
   ]
  },
  {
   "cell_type": "code",
   "execution_count": 8,
   "metadata": {
    "scrolled": false
   },
   "outputs": [
    {
     "name": "stdout",
     "output_type": "stream",
     "text": [
      "\n",
      "o8 = - 2*P  + 3*P\n",
      "          0      1\n",
      "\n",
      "o8 : ProjectiveHilbertPolynomial\n"
     ]
    }
   ],
   "source": [
    "hilbertPolynomial C"
   ]
  },
  {
   "cell_type": "markdown",
   "metadata": {},
   "source": [
    "Note that failed assertions, just like any other Macaulay2 errors, do propagete to the cell's stderr."
   ]
  },
  {
   "cell_type": "code",
   "execution_count": 10,
   "metadata": {},
   "outputs": [
    {
     "name": "stderr",
     "output_type": "stream",
     "text": [
      "stdio:10:1:(3): error: assertion failed\n"
     ]
    },
    {
     "name": "stdout",
     "output_type": "stream",
     "text": [
      "\n",
      "o10 = 3\n"
     ]
    }
   ],
   "source": [
    "assert(false)\n",
    "d = degree C"
   ]
  },
  {
   "cell_type": "markdown",
   "metadata": {},
   "source": [
    "There are several display modes that can be switched using cell magic. Modes changes persist."
   ]
  },
  {
   "cell_type": "code",
   "execution_count": 12,
   "metadata": {
    "scrolled": false
   },
   "outputs": [
    {
     "name": "stdout",
     "output_type": "stream",
     "text": [
      "[magic succeeded] mode = default\n",
      "\n",
      "o12 = | x_0 x_1 x_2 |\n",
      "      | x_1 x_2 x_3 |\n",
      "\n",
      "              2       3\n",
      "o12 : Matrix S  <--- S\n"
     ]
    }
   ],
   "source": [
    "--the default mode is called `default`\n",
    "--%mode=default\n",
    "g"
   ]
  },
  {
   "cell_type": "code",
   "execution_count": 13,
   "metadata": {
    "scrolled": true
   },
   "outputs": [
    {
     "name": "stdout",
     "output_type": "stream",
     "text": [
      "\n",
      "       1      3      2\n",
      "o13 = S  <-- S  <-- S  <-- 0\n",
      "                            \n",
      "      0      1      2      3\n",
      "\n",
      "o13 : ChainComplex\n"
     ]
    }
   ],
   "source": [
    "res C"
   ]
  },
  {
   "cell_type": "code",
   "execution_count": 15,
   "metadata": {
    "scrolled": false
   },
   "outputs": [
    {
     "name": "stdout",
     "output_type": "stream",
     "text": [
      "[magic succeeded] mode = texmacs\n"
     ]
    },
    {
     "data": {
      "text/html": [
       "<math xmlns=\"http://www.w3.org/1998/Math/MathML\"><mtable columnalign=\"right center left\"><mtr><mtd><mstyle color=\"red\"><mi>o15</mi></mstyle></mtd><mtd><mstyle color=\"red\"><mo>=</mo></mstyle></mtd><mtd><mrow><mo>(</mo><mtable align=\"baseline1\"><mtr><mtd><msub><mi>x</mi><mn>0</mn></msub></mtd><mtd><msub><mi>x</mi><mn>1</mn></msub></mtd><mtd><msub><mi>x</mi><mn>2</mn></msub></mtd></mtr><mtr><mtd><msub><mi>x</mi><mn>1</mn></msub></mtd><mtd><msub><mi>x</mi><mn>2</mn></msub></mtd><mtd><msub><mi>x</mi><mn>3</mn></msub></mtd></mtr></mtable><mo>)</mo></mrow></mtd></mtr><mtr></mtr><mtr><mtd><mstyle color=\"red\"><mi>o15</mi></mstyle></mtd><mtd><mstyle color=\"red\"><mo>:</mo></mstyle></mtd><mtd><mtext>Matrix</mtext></mtd></mtr></mtable></math>"
      ]
     },
     "execution_count": 15,
     "metadata": {},
     "output_type": "execute_result"
    }
   ],
   "source": [
    "--rendered TeX-like can be produced using the `texmacs` mode\n",
    "--%mode=texmacs\n",
    "g"
   ]
  },
  {
   "cell_type": "code",
   "execution_count": 16,
   "metadata": {},
   "outputs": [
    {
     "data": {
      "text/html": [
       "<math xmlns=\"http://www.w3.org/1998/Math/MathML\"><mtable columnalign=\"right center left\"><mtr><mtd><mstyle color=\"red\"><mi>o16</mi></mstyle></mtd><mtd><mstyle color=\"red\"><mo>=</mo></mstyle></mtd><mtd><mtable align=\"baseline1\"><mtr><mtd><msup><mi>S</mi><mn>1</mn></msup></mtd><mtd><mo>&larr;</mo></mtd><mtd><msup><mi>S</mi><mn>3</mn></msup></mtd><mtd><mo>&larr;</mo></mtd><mtd><msup><mi>S</mi><mn>2</mn></msup></mtd><mtd><mo>&larr;</mo></mtd><mtd><msup><mi>S</mi><mn>0</mn></msup></mtd></mtr><mtr><mtd></mtd><mtd></mtd><mtd></mtd><mtd></mtd><mtd></mtd><mtd></mtd><mtd></mtd></mtr><mtr><mtd><mn>0</mn></mtd><mtd></mtd><mtd><mn>1</mn></mtd><mtd></mtd><mtd><mn>2</mn></mtd><mtd></mtd><mtd><mn>3</mn></mtd></mtr></mtable></mtd></mtr><mtr></mtr><mtr><mtd><mstyle color=\"red\"><mi>o16</mi></mstyle></mtd><mtd><mstyle color=\"red\"><mo>:</mo></mstyle></mtd><mtd><mtext>ChainComplex</mtext></mtd></mtr></mtable></math>"
      ]
     },
     "execution_count": 16,
     "metadata": {},
     "output_type": "execute_result"
    }
   ],
   "source": [
    "res C"
   ]
  },
  {
   "cell_type": "code",
   "execution_count": 17,
   "metadata": {},
   "outputs": [
    {
     "name": "stdout",
     "output_type": "stream",
     "text": [
      "[magic succeeded] mode = pretty\n"
     ]
    }
   ],
   "source": [
    "--another mode, IPython-like, is called `pretty`\n",
    "--%mode=pretty"
   ]
  },
  {
   "cell_type": "code",
   "execution_count": 18,
   "metadata": {},
   "outputs": [
    {
     "data": {
      "text/html": [
       "<pre>\n",
       "| x_0 x_1 x_2 |\n",
       "| x_1 x_2 x_3 |</pre><pre style=\"color: gray\">        2       3\n",
       "Matrix S  <--- S\n",
       "</pre>"
      ]
     },
     "execution_count": 18,
     "metadata": {},
     "output_type": "execute_result"
    }
   ],
   "source": [
    "g"
   ]
  },
  {
   "cell_type": "code",
   "execution_count": 19,
   "metadata": {
    "scrolled": true
   },
   "outputs": [
    {
     "data": {
      "text/html": [
       "<pre>\n",
       " 1      3      2\n",
       "S  <-- S  <-- S  <-- 0\n",
       "                      \n",
       "0      1      2      3</pre><pre style=\"color: gray\">ChainComplex\n",
       "</pre>"
      ]
     },
     "execution_count": 19,
     "metadata": {},
     "output_type": "execute_result"
    }
   ],
   "source": [
    "res C"
   ]
  },
  {
   "cell_type": "code",
   "execution_count": 22,
   "metadata": {},
   "outputs": [
    {
     "name": "stdout",
     "output_type": "stream",
     "text": [
      "[magic succeeded] mode = raw\n",
      "\n",
      "\n",
      "o21 = | x_0 x_1 x_2 |\n",
      "      | x_1 x_2 x_3 |\n",
      "\n",
      "              2       3\n",
      "o21 : Matrix S  <--- S\n",
      "\n",
      "\n",
      "       1      3      2\n",
      "o22 = S  <-- S  <-- S  <-- 0\n",
      "                            \n",
      "      0      1      2      3\n",
      "\n",
      "o22 : ChainComplex\n"
     ]
    }
   ],
   "source": [
    "--`raw` redirects all of Macaulay2's output, does not propagate errors to stderr, and is styled as `default`\n",
    "--%mode=raw\n",
    "g\n",
    "res C"
   ]
  },
  {
   "cell_type": "markdown",
   "metadata": {},
   "source": [
    "For a variety of reasons, the current implementation requires a timeout to be set for the execution time of each cell. This can be done once (or not at all if default is used) or changed frequently."
   ]
  },
  {
   "cell_type": "code",
   "execution_count": 24,
   "metadata": {
    "scrolled": true
   },
   "outputs": [
    {
     "name": "stdout",
     "output_type": "stream",
     "text": [
      "[magic succeeded] timeout = 1\n",
      "\n",
      "^Cstdio:25:1:(3): error: interrupted\n"
     ]
    }
   ],
   "source": [
    "--%timeout=1\n",
    "sleep 10"
   ]
  },
  {
   "cell_type": "code",
   "execution_count": 26,
   "metadata": {
    "scrolled": false
   },
   "outputs": [
    {
     "name": "stdout",
     "output_type": "stream",
     "text": [
      "[magic succeeded] timeout = 4\n",
      "\n",
      "     -- used 0.000049471 seconds\n",
      "\n",
      "o26 = 0\n"
     ]
    }
   ],
   "source": [
    "--%timeout=4\n",
    "time sleep 2"
   ]
  },
  {
   "cell_type": "markdown",
   "metadata": {},
   "source": [
    "More complex language operations and looks up also work the way they are intended to."
   ]
  },
  {
   "cell_type": "code",
   "execution_count": 27,
   "metadata": {},
   "outputs": [
    {
     "name": "stdout",
     "output_type": "stream",
     "text": [
      "\n",
      "o27 = ../../m2-new/M2/Macaulay2/m2/option.m2:13:20-17:34: --source code:\n",
      "        (opts,f) -> args -> (\n",
      "             -- Common code for functions created with >> to process options and arguments.\n",
      "             uncurry(f, override (opts,args))\n",
      "             )\n",
      "        )\n",
      "      | symbol   class              value                                                   location of symbol\n",
      "      | ------   -----              -----                                                   ------------------                               \n",
      "      | f      : FunctionClosure -- -*Function[../../m2-new/M2/Macaulay2/m2/methods.m2:119. ../../m2-new/M2/Macaulay2/m2/option.m2:13:9-13:10\n",
      "      | opts   : OptionTable     -- OptionTable{SubringLimit => infinity}                   ../../m2-new/M2/Macaulay2/m2/option.m2:13:4-13:8 \n",
      "      | -- function f:\n",
      "      | ../../m2-new/M2/Macaulay2/m2/methods.m2:119:70-119:102: --source code:\n",
      "      |      methodFunction := new MethodFunctionWithOptions from (opts >> o -> arg -> innerMethodFunction(o,arg));\n",
      "      | | symbol                class                        value                                                 location of symbol\n",
      "      | | ------                -----                        -----                                                 ------------------                                   \n",
      "      | | opts                : OptionTable               -- OptionTable{SubringLimit => infinity}                 ../../m2-new/M2/Macaulay2/m2/methods.m2:116:38-116:42\n",
      "      | | innerMethodFunction : CompiledFunctionClosure   -- -*Function*-                                          ../../m2-new/M2/Macaulay2/m2/methods.m2:118:12-118:31\n",
      "      | | outputs             : List                      -- {false, false, false, false}                          ../../m2-new/M2/Macaulay2/m2/methods.m2:116:43-116:50\n",
      "      | | methopts            : OptionTable               -- OptionTable{Binary => false                         } ../../m2-new/M2/Macaulay2/m2/methods.m2:116:29-116:37\n",
      "      | |                                                                Dispatch => {Thing, Thing, Thing, Thing}\n",
      "      | |                                                                Options => {SubringLimit => (infinity)}\n",
      "      | |                                                                TypicalValue => Thing\n",
      "      | | methodFunction      : MethodFunctionWithOptions -- kernel                                                ../../m2-new/M2/Macaulay2/m2/methods.m2:119:6-119:20 \n",
      "      | -- option table opts:\n",
      "      | OptionTable{SubringLimit => infinity}\n"
     ]
    }
   ],
   "source": [
    "code ker"
   ]
  },
  {
   "cell_type": "markdown",
   "metadata": {},
   "source": [
    "You can preset `timeout`, `timeout_startup`, `mode` and `execpath` by loading an INI config.\n",
    "For example, the config below, instructs M2JK to set `timeout` to 10 sec, the display mode to `raw`,\n",
    "and the M2 executable path to the local build on my system.\n",
    "```\n",
    "[magic]\n",
    "timeout = 10\n",
    "mode = raw\n",
    "execpath = /Users/.../M2/usr-dist/x86_64-Darwin-MacOS-10.14.1/bin/M2-binary\n",
    "```\n",
    "\n",
    "This can then be loaded by setting `$M2JK_CONFIG` to the config filepath.\n"
   ]
  }
 ],
 "metadata": {
  "kernelspec": {
   "display_name": "M2",
   "language": "text/x-macaulay2",
   "name": "m2"
  },
  "language_info": {
   "codemirror_mode": "macaulay2",
   "file_extension": ".m2",
   "mimetype": "text/x-macaulay2",
   "name": "Macaulay2"
  }
 },
 "nbformat": 4,
 "nbformat_minor": 2
}
