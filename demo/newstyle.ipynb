{
 "cells": [
  {
   "cell_type": "markdown",
   "metadata": {},
   "source": [
    "add code organized into cells"
   ]
  }
 ],
 "metadata": {
  "kernelspec": {
   "display_name": "M2",
   "language": "text",
   "name": "m2"
  },
  "language_info": {
   "file_extension": "m2",
   "mimetype": "text/plain",
   "name": "Macaulay2"
  }
 },
 "nbformat": 4,
 "nbformat_minor": 2
}
