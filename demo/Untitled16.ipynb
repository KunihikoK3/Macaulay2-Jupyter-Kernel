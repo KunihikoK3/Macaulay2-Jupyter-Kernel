{
 "cells": [
  {
   "cell_type": "markdown",
   "metadata": {},
   "source": [
    "### Cell Magic\n",
    "\n",
    "M2JK implements a minimal version of the so-called \"cell magic\" from IPython.\n",
    "Cell magic is a comment statement that interacts with the Jupyter kernel rather than with Macaulay2.\n",
    "It allows for changing configurable options on the fly.\n",
    "For example, you can change the way Macaulay2's output is presented by switching the [[output mode]],\n",
    "or set a timeout for a cell calculation.\n",
    "\n",
    "To set the configurable option `key` to `value`, add the line\n",
    "```\n",
    "-- % key = some value \n",
    "```\n",
    "anywhere in a cell. Whitespaces are mostly irrelevant.\n",
    "For all configure options, see [this](#)."
   ]
  },
  {
   "cell_type": "code",
   "execution_count": 2,
   "metadata": {},
   "outputs": [
    {
     "name": "stdout",
     "output_type": "stream",
     "text": [
      "-- [cell magic] batmat = Bruce Wayne\n",
      "-- [cell magic] mode = normal\n"
     ]
    }
   ],
   "source": [
    "-- % batmat = Bruce Wayne\n",
    "--%mode=normal"
   ]
  },
  {
   "cell_type": "markdown",
   "metadata": {},
   "source": [
    "The entire config is a special configurable option and can be manipulated directly by setting it to `print` or `reset`.\n",
    "The former prints in to stdout, the latter resets it to the defaults."
   ]
  },
  {
   "cell_type": "code",
   "execution_count": 3,
   "metadata": {},
   "outputs": [
    {
     "name": "stdout",
     "output_type": "stream",
     "text": [
      "-- [cell magic] config = print\n",
      "{'timeout': '2', 'startup_timeout': '5', 'mode': 'normal', 'exepath': '/Applications/Macaulay2-1.12/bin/M2', 'batmat': 'Bruce Wayne'}\n",
      "{'config': 'print'}\n"
     ]
    }
   ],
   "source": [
    "--%config = print"
   ]
  },
  {
   "cell_type": "markdown",
   "metadata": {},
   "source": [
    "You can organize these options by placing them in a config file.\n",
    "By default M2JK loads up the contents of the env variable `M2JK_CONFIG`, if it's non-empty.\n",
    "The format is standard, except that all must be under the section `magic`.\n",
    "\n",
    "```\n",
    "[magic]\n",
    "mode = texmacs\n",
    "timeout = 2\n",
    "```"
   ]
  },
  {
   "cell_type": "markdown",
   "metadata": {},
   "source": [
    "### Display Mode\n",
    "\n",
    "Several modes let you choose how to display the Macaulay2 output.\n",
    "The default mode is `normal` and it is intended to be a complete analog or Macaulay2's interactive session output.\n",
    "As already noted, only the result of the last statement is displayed, as this is IPython's philosophy."
   ]
  },
  {
   "cell_type": "code",
   "execution_count": 7,
   "metadata": {},
   "outputs": [
    {
     "name": "stdout",
     "output_type": "stream",
     "text": [
      "-- [cell magic] mode = normal\n",
      "\n",
      "      10       8      2 6      3 4     4 2    5\n",
      "o7 = y   + 5x*y  + 10x y  + 10x y  + 5x y  + x\n",
      "\n",
      "o7 : S"
     ]
    }
   ],
   "source": [
    "--%mode=normal\n",
    "S = ZZ[x,y]\n",
    "a = (x+y^2)\n",
    "b = a^5"
   ]
  },
  {
   "cell_type": "markdown",
   "metadata": {},
   "source": [
    "The `texmacs` mode, again taken from Macaulay2 directly, displays the output (to be rendered) as TeX output."
   ]
  },
  {
   "cell_type": "code",
   "execution_count": 10,
   "metadata": {},
   "outputs": [
    {
     "name": "stdout",
     "output_type": "stream",
     "text": [
      "-- [cell magic] mode = texmacs\n"
     ]
    },
    {
     "data": {
      "text/html": [
       "<math xmlns=\"http://www.w3.org/1998/Math/MathML\"><mtable columnalign=\"right center left\"><mtr><mtd><mstyle color=\"red\"><mi>o10</mi></mstyle></mtd><mtd><mstyle color=\"red\"><mo>=</mo></mstyle></mtd><mtd><mn>1</mn></mtd></mtr><mtr></mtr><mtr><mtd><mstyle color=\"red\"><mi>o10</mi></mstyle></mtd><mtd><mstyle color=\"red\"><mo>:</mo></mstyle></mtd><mtd><mi>ℤ</mi></mtd></mtr></mtable></math>"
      ]
     },
     "execution_count": 10,
     "metadata": {},
     "output_type": "execute_result"
    }
   ],
   "source": [
    "--%mode=texmacs\n",
    "b=1; b"
   ]
  },
  {
   "cell_type": "code",
   "execution_count": null,
   "metadata": {},
   "outputs": [],
   "source": [
    "b"
   ]
  },
  {
   "cell_type": "code",
   "execution_count": null,
   "metadata": {},
   "outputs": [],
   "source": []
  }
 ],
 "metadata": {
  "kernelspec": {
   "display_name": "M2",
   "language": "text/x-macaulay2",
   "name": "m2"
  },
  "language_info": {
   "codemirror_mode": "macaulay2",
   "file_extension": ".m2",
   "mimetype": "text/x-macaulay2",
   "name": "Macaulay2"
  }
 },
 "nbformat": 4,
 "nbformat_minor": 2
}
