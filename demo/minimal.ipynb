{
 "cells": [
  {
   "cell_type": "markdown",
   "metadata": {},
   "source": [
    "# demo"
   ]
  },
  {
   "cell_type": "markdown",
   "metadata": {},
   "source": [
    "As a minimal example, here’s the twisted cubic — $\\text{Proj}~\\mathbb{k}[s^3,s^2t,st^2,t^3]$."
   ]
  },
  {
   "cell_type": "code",
   "execution_count": null,
   "metadata": {},
   "outputs": [
    {
     "name": "stdout",
     "output_type": "stream",
     "text": [
      "pretty=0"
     ]
    }
   ],
   "source": [
    "%%pretty = 0"
   ]
  },
  {
   "cell_type": "code",
   "execution_count": 3,
   "metadata": {},
   "outputs": [
    {
     "data": {
      "text/plain": [
       "          3   2      2   3\n",
       "map(R,S,{s , s t, s*t , t })\n",
       "\n",
       "↪ RingMap R <--- S"
      ]
     },
     "execution_count": 3,
     "metadata": {},
     "output_type": "execute_result"
    }
   ],
   "source": [
    "S = QQ[x_0..x_3]; -- the embedding space\n",
    "R = QQ[s,t];       \n",
    "f = map(R,S,{s^3, s^2*t, s*t^2, t^3})"
   ]
  },
  {
   "cell_type": "code",
   "execution_count": 4,
   "metadata": {},
   "outputs": [
    {
     "data": {
      "text/plain": [
       "| x_0 x_1 x_2 |\n",
       "| x_1 x_2 x_3 |\n",
       "\n",
       "↪         2       3\n",
       "↪ Matrix S  <--- S"
      ]
     },
     "execution_count": 4,
     "metadata": {},
     "output_type": "execute_result"
    }
   ],
   "source": [
    "g = matrix({{x_0,x_1,x_2},{x_1,x_2,x_3}})"
   ]
  },
  {
   "cell_type": "code",
   "execution_count": 5,
   "metadata": {},
   "outputs": [
    {
     "data": {
      "text/plain": [
       " 1      3      2\n",
       "S  <-- S  <-- S  <-- 0\n",
       "\n",
       "0      1      2      3\n",
       "\n",
       "↪ ChainComplex"
      ]
     },
     "execution_count": 5,
     "metadata": {},
     "output_type": "execute_result"
    }
   ],
   "source": [
    "if ker f == minors(2, g) then\n",
    "    res ker f\n",
    "else\n",
    "    print(\"WTF!\")"
   ]
  },
  {
   "cell_type": "code",
   "execution_count": null,
   "metadata": {
    "collapsed": true
   },
   "outputs": [],
   "source": []
  }
 ],
 "metadata": {
  "kernelspec": {
   "display_name": "M2",
   "language": "text",
   "name": "m2"
  },
  "language_info": {
   "file_extension": "m2",
   "mimetype": "text/plain",
   "name": "Macaulay2"
  }
 },
 "nbformat": 4,
 "nbformat_minor": 2
}
