{
 "cells": [
  {
   "cell_type": "markdown",
   "metadata": {},
   "source": [
    "*Macaulay2* is a software system for research in algebraic geometry by Daniel R. Grayson and Michael E. Stillman.\n",
    "It is available online in source code form and compiled for various architectures at http://www.math.uiuc.edu/Macaulay2/.\n",
    "\n",
    "What follows is a reproduction of the code (and some text) from the preface to\n",
    "\n",
    "> “Computations in algebraic geometry with *Macaulay 2*”,\n",
    "David Eisenbud,\n",
    "Daniel R. Grayson,\n",
    "Michael Stillman, and\n",
    "Bernd Sturmfels (Eds.) (2002) (DOI: 10.1007/978-3-662-04851-1)"
   ]
  },
  {
   "cell_type": "code",
   "execution_count": 2,
   "metadata": {},
   "outputs": [
    {
     "name": "stdout",
     "output_type": "stream",
     "text": [
      "[magic succeeded] mode = pretty\n"
     ]
    },
    {
     "data": {
      "text/html": [
       "<pre>\n",
       "68\n",
       "--\n",
       "55</pre><pre style=\"color: gray\">QQ</pre>"
      ]
     },
     "execution_count": 2,
     "metadata": {},
     "output_type": "execute_result"
    }
   ],
   "source": [
    "--%mode=pretty\n",
    "3/5 + 7/11"
   ]
  },
  {
   "cell_type": "code",
   "execution_count": 3,
   "metadata": {},
   "outputs": [
    {
     "data": {
      "text/html": [
       "<pre>\n",
       "933262154439441526816992388562667004907159682643816214685929638952175999932\n",
       "299156089414639761565182862536979208272237582511852109168640000000000000000\n",
       "00000000</pre><pre style=\"color: gray\"></pre>"
      ]
     },
     "execution_count": 3,
     "metadata": {},
     "output_type": "execute_result"
    }
   ],
   "source": [
    "100!"
   ]
  },
  {
   "cell_type": "markdown",
   "metadata": {},
   "source": [
    "Let’s give a hint of the breadth of types of mathematical objects available in *Macaulay2* with some examples. In *Macaulay2* one defines a quotient ring of a polynomial ring $R$ over the rational numbers by entering a command such as the one below."
   ]
  },
  {
   "cell_type": "code",
   "execution_count": 4,
   "metadata": {},
   "outputs": [
    {
     "data": {
      "text/html": [
       "<pre>\n",
       "R</pre><pre style=\"color: gray\">QuotientRing</pre>"
      ]
     },
     "execution_count": 4,
     "metadata": {},
     "output_type": "execute_result"
    }
   ],
   "source": [
    "R = QQ[x,y,z]/(x^3-y^3-z^3)"
   ]
  },
  {
   "cell_type": "markdown",
   "metadata": {},
   "source": [
    "Having done that, we can compute in the ring."
   ]
  },
  {
   "cell_type": "code",
   "execution_count": 5,
   "metadata": {},
   "outputs": [
    {
     "data": {
      "text/html": [
       "<pre>\n",
       "  2        2     3     2               2        2       2     3\n",
       "3x y + 3x*y  + 2y  + 3x z + 6x*y*z + 3y z + 3x*z  + 3y*z  + 2z</pre><pre style=\"color: gray\">R</pre>"
      ]
     },
     "execution_count": 5,
     "metadata": {},
     "output_type": "execute_result"
    }
   ],
   "source": [
    "(x+y+z)^3"
   ]
  },
  {
   "cell_type": "markdown",
   "metadata": {},
   "source": [
    "We can make matrices over the ring."
   ]
  },
  {
   "cell_type": "code",
   "execution_count": 6,
   "metadata": {},
   "outputs": [
    {
     "data": {
      "text/html": [
       "<pre>\n",
       "| x y z |</pre><pre style=\"color: gray\">        1       3\n",
       "Matrix R  <--- R</pre>"
      ]
     },
     "execution_count": 6,
     "metadata": {},
     "output_type": "execute_result"
    }
   ],
   "source": [
    "b = vars R"
   ]
  },
  {
   "cell_type": "code",
   "execution_count": 7,
   "metadata": {},
   "outputs": [
    {
     "data": {
      "text/html": [
       "<pre>\n",
       "| x2 y2 z2 |</pre><pre style=\"color: gray\">        1       3\n",
       "Matrix R  <--- R</pre>"
      ]
     },
     "execution_count": 7,
     "metadata": {},
     "output_type": "execute_result"
    }
   ],
   "source": [
    "c = matrix {{x^2,y^2,z^2}}"
   ]
  },
  {
   "cell_type": "markdown",
   "metadata": {},
   "source": [
    "We can make modules over the ring."
   ]
  },
  {
   "cell_type": "code",
   "execution_count": 8,
   "metadata": {},
   "outputs": [
    {
     "data": {
      "text/html": [
       "<pre>\n",
       "cokernel | x y z |</pre><pre style=\"color: gray\">                       1\n",
       "R-module, quotient of R</pre>"
      ]
     },
     "execution_count": 8,
     "metadata": {},
     "output_type": "execute_result"
    }
   ],
   "source": [
    "M = coker b"
   ]
  },
  {
   "cell_type": "code",
   "execution_count": 9,
   "metadata": {
    "scrolled": true
   },
   "outputs": [
    {
     "data": {
      "text/html": [
       "<pre>\n",
       "image {2} | x  -y2 0   -z2 |\n",
       "      {2} | -y x2  -z2 0   |\n",
       "      {2} | -z 0   y2  x2  |</pre><pre style=\"color: gray\">                        3\n",
       "R-module, submodule of R</pre>"
      ]
     },
     "execution_count": 9,
     "metadata": {},
     "output_type": "execute_result"
    }
   ],
   "source": [
    "N = ker c"
   ]
  },
  {
   "cell_type": "markdown",
   "metadata": {},
   "source": [
    "We can make projective resolutions of modules."
   ]
  },
  {
   "cell_type": "code",
   "execution_count": 10,
   "metadata": {},
   "outputs": [
    {
     "data": {
      "text/html": [
       "<pre>\n",
       " 1      3      4      4      4\n",
       "R  <-- R  <-- R  <-- R  <-- R\n",
       "                             \n",
       "0      1      2      3      4</pre><pre style=\"color: gray\">ChainComplex</pre>"
      ]
     },
     "execution_count": 10,
     "metadata": {},
     "output_type": "execute_result"
    }
   ],
   "source": [
    "res M"
   ]
  },
  {
   "cell_type": "markdown",
   "metadata": {},
   "source": [
    "We can make projective varieties."
   ]
  },
  {
   "cell_type": "code",
   "execution_count": 11,
   "metadata": {},
   "outputs": [
    {
     "data": {
      "text/html": [
       "<pre>\n",
       "X</pre><pre style=\"color: gray\">ProjectiveVariety</pre>"
      ]
     },
     "execution_count": 11,
     "metadata": {},
     "output_type": "execute_result"
    }
   ],
   "source": [
    "X = Proj R"
   ]
  },
  {
   "cell_type": "markdown",
   "metadata": {},
   "source": [
    "We can make coherent sheaves and compute their cohomology."
   ]
  },
  {
   "cell_type": "code",
   "execution_count": 12,
   "metadata": {},
   "outputs": [
    {
     "data": {
      "text/html": [
       "<pre>\n",
       "  1\n",
       "QQ</pre><pre style=\"color: gray\">QQ-module, free</pre>"
      ]
     },
     "execution_count": 12,
     "metadata": {},
     "output_type": "execute_result"
    }
   ],
   "source": [
    "HH^1 cotangentSheaf X"
   ]
  }
 ],
 "metadata": {
  "kernelspec": {
   "display_name": "M2",
   "language": "text/x-macaulay2",
   "name": "m2"
  },
  "language_info": {
   "codemirror_mode": "macaulay2",
   "file_extension": ".m2",
   "mimetype": "text/x-macaulay2",
   "name": "Macaulay2"
  }
 },
 "nbformat": 4,
 "nbformat_minor": 2
}
