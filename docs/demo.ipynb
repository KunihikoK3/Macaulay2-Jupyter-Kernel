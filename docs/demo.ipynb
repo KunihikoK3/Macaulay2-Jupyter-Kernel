{
 "cells": [
  {
   "cell_type": "markdown",
   "metadata": {},
   "source": [
    "# M2 Demo"
   ]
  },
  {
   "cell_type": "markdown",
   "metadata": {},
   "source": [
    "with $\\TeX$ --- $x^2$"
   ]
  },
  {
   "cell_type": "code",
   "execution_count": 1,
   "metadata": {},
   "outputs": [
    {
     "name": "stdout",
     "output_type": "stream",
     "text": [
      "ebasi\n"
     ]
    }
   ],
   "source": [
    "print(\"ebasi\")"
   ]
  },
  {
   "cell_type": "code",
   "execution_count": 2,
   "metadata": {},
   "outputs": [
    {
     "data": {
      "text/html": [
       "<pre><pre>2</pre></pre>"
      ]
     },
     "execution_count": 2,
     "metadata": {},
     "output_type": "execute_result"
    }
   ],
   "source": [
    "1+1"
   ]
  },
  {
   "cell_type": "code",
   "execution_count": 3,
   "metadata": {},
   "outputs": [
    {
     "data": {
      "text/html": [
       "<pre><pre>10201</pre></pre>"
      ]
     },
     "execution_count": 3,
     "metadata": {},
     "output_type": "execute_result"
    }
   ],
   "source": [
    "101^2"
   ]
  },
  {
   "cell_type": "code",
   "execution_count": 4,
   "metadata": {},
   "outputs": [
    {
     "data": {
      "text/html": [
       "<pre><pre>942594775983835942085162312448293674956231279470254376832788935341697759931\n",
       "622147650308786159180834691162349000354959958336970630260326400000000000000\n",
       "0000000000</pre></pre>"
      ]
     },
     "execution_count": 4,
     "metadata": {},
     "output_type": "execute_result"
    }
   ],
   "source": [
    "101!"
   ]
  },
  {
   "cell_type": "code",
   "execution_count": 5,
   "metadata": {},
   "outputs": [
    {
     "name": "stdout",
     "output_type": "stream",
     "text": [
      "supermania\n"
     ]
    }
   ],
   "source": [
    "print(\"supermania\")"
   ]
  },
  {
   "cell_type": "code",
   "execution_count": 6,
   "metadata": {},
   "outputs": [
    {
     "data": {
      "text/html": [
       "<pre><pre>1</pre></pre>"
      ]
     },
     "execution_count": 6,
     "metadata": {},
     "output_type": "execute_result"
    }
   ],
   "source": [
    "a'=1 --ebasi"
   ]
  },
  {
   "cell_type": "code",
   "execution_count": 7,
   "metadata": {},
   "outputs": [
    {
     "data": {
      "text/html": [
       "<pre><pre>1</pre></pre>"
      ]
     },
     "execution_count": 7,
     "metadata": {},
     "output_type": "execute_result"
    }
   ],
   "source": [
    "--this\n",
    "1"
   ]
  },
  {
   "cell_type": "code",
   "execution_count": 8,
   "metadata": {},
   "outputs": [
    {
     "data": {
      "text/html": [
       "<pre><pre>2</pre></pre>"
      ]
     },
     "execution_count": 8,
     "metadata": {},
     "output_type": "execute_result"
    }
   ],
   "source": [
    "a''=2\n",
    "-- that"
   ]
  },
  {
   "cell_type": "code",
   "execution_count": 9,
   "metadata": {},
   "outputs": [
    {
     "data": {
      "text/html": [
       "<pre><pre>R\n",
       "<span style=\"color: gray\">PolynomialRing</span></pre></pre>"
      ]
     },
     "execution_count": 9,
     "metadata": {},
     "output_type": "execute_result"
    }
   ],
   "source": [
    "R=QQ[x..z]"
   ]
  },
  {
   "cell_type": "code",
   "execution_count": 11,
   "metadata": {},
   "outputs": [
    {
     "data": {
      "text/html": [
       "<pre><pre>3</pre></pre>"
      ]
     },
     "execution_count": 11,
     "metadata": {},
     "output_type": "execute_result"
    }
   ],
   "source": [
    "\n",
    "a=1; b=3"
   ]
  },
  {
   "cell_type": "code",
   "execution_count": 12,
   "metadata": {},
   "outputs": [
    {
     "data": {
      "text/html": [
       "<pre><pre>| x y z |\n",
       "<span style=\"color: gray\">        1       3\n",
       "Matrix R  <--- R</span></pre></pre>"
      ]
     },
     "execution_count": 12,
     "metadata": {},
     "output_type": "execute_result"
    }
   ],
   "source": [
    "vars R"
   ]
  },
  {
   "cell_type": "code",
   "execution_count": 14,
   "metadata": {
    "collapsed": true
   },
   "outputs": [],
   "source": [
    "a=(1+x/y)^4; b=3;"
   ]
  },
  {
   "cell_type": "code",
   "execution_count": 15,
   "metadata": {},
   "outputs": [
    {
     "data": {
      "text/html": [
       "<pre><pre>   4      3       2 2        3      4\n",
       "10x  + 40x y + 60x y  + 40x*y  + 10y\n",
       "<span style=\"color: gray\">R</span></pre></pre>"
      ]
     },
     "execution_count": 15,
     "metadata": {},
     "output_type": "execute_result"
    }
   ],
   "source": [
    "10*\n",
    "(x+y)^4"
   ]
  },
  {
   "cell_type": "code",
   "execution_count": 16,
   "metadata": {},
   "outputs": [
    {
     "data": {
      "text/html": [
       "<pre><pre> 4     3      2 2       3    4\n",
       "x  + 4x y + 6x y  + 4x*y  + y\n",
       "------------------------------\n",
       "               4\n",
       "              y\n",
       "<span style=\"color: gray\">frac(R)</span></pre></pre>"
      ]
     },
     "execution_count": 16,
     "metadata": {},
     "output_type": "execute_result"
    }
   ],
   "source": [
    "a"
   ]
  },
  {
   "cell_type": "code",
   "execution_count": 17,
   "metadata": {
    "collapsed": true
   },
   "outputs": [],
   "source": [
    "101^3;"
   ]
  },
  {
   "cell_type": "code",
   "execution_count": 18,
   "metadata": {},
   "outputs": [
    {
     "name": "stdout",
     "output_type": "stream",
     "text": [
      "     -- used 0.000041 seconds\n",
      "wtf\n"
     ]
    }
   ],
   "source": [
    "time print(\"wtf\")"
   ]
  },
  {
   "cell_type": "code",
   "execution_count": 19,
   "metadata": {},
   "outputs": [
    {
     "name": "stdout",
     "output_type": "stream",
     "text": [
      "17\n"
     ]
    }
   ],
   "source": [
    "print(17)"
   ]
  },
  {
   "cell_type": "code",
   "execution_count": 20,
   "metadata": {},
   "outputs": [
    {
     "data": {
      "text/html": [
       "<pre><pre>1</pre></pre>"
      ]
     },
     "execution_count": 20,
     "metadata": {},
     "output_type": "execute_result"
    }
   ],
   "source": [
    "o10"
   ]
  },
  {
   "cell_type": "code",
   "execution_count": 21,
   "metadata": {},
   "outputs": [
    {
     "data": {
      "text/html": [
       "<pre><pre> 15      14        13 2       12 3        11 4        10 5        9 6  \n",
       "x   + 15x  y + 105x  y  + 455x  y  + 1365x  y  + 3003x  y  + 5005x y  +\n",
       "--------------------------------------------------------------------------\n",
       "     8 7        7 8        6 9        5 10        4 11       3 12  \n",
       "6435x y  + 6435x y  + 5005x y  + 3003x y   + 1365x y   + 455x y   +\n",
       "--------------------------------------------------------------------------\n",
       "    2 13        14    15      14        13           12 2         11 3   \n",
       "105x y   + 15x*y   + y   + 15x  z + 210x  y*z + 1365x  y z + 5460x  y z +\n",
       "--------------------------------------------------------------------------\n",
       "      10 4          9 5          8 6          7 7          6 8   \n",
       "15015x  y z + 30030x y z + 45045x y z + 51480x y z + 45045x y z +\n",
       "--------------------------------------------------------------------------\n",
       "      5 9          4 10         3 11         2 12          13       14   \n",
       "30030x y z + 15015x y  z + 5460x y  z + 1365x y  z + 210x*y  z + 15y  z +\n",
       "--------------------------------------------------------------------------\n",
       "    13 2        12   2        11 2 2         10 3 2         9 4 2  \n",
       "105x  z  + 1365x  y*z  + 8190x  y z  + 30030x  y z  + 75075x y z  +\n",
       "--------------------------------------------------------------------------\n",
       "       8 5 2          7 6 2          6 7 2          5 8 2         4 9 2  \n",
       "135135x y z  + 180180x y z  + 180180x y z  + 135135x y z  + 75075x y z  +\n",
       "--------------------------------------------------------------------------\n",
       "      3 10 2        2 11 2          12 2       13 2       12 3  \n",
       "30030x y  z  + 8190x y  z  + 1365x*y  z  + 105y  z  + 455x  z  +\n",
       "--------------------------------------------------------------------------\n",
       "     11   3         10 2 3          9 3 3          8 4 3          7 5 3  \n",
       "5460x  y*z  + 30030x  y z  + 100100x y z  + 225225x y z  + 360360x y z  +\n",
       "--------------------------------------------------------------------------\n",
       "       6 6 3          5 7 3          4 8 3          3 9 3         2 10 3  \n",
       "420420x y z  + 360360x y z  + 225225x y z  + 100100x y z  + 30030x y  z  +\n",
       "--------------------------------------------------------------------------\n",
       "       11 3       12 3        11 4         10   4         9 2 4  \n",
       "5460x*y  z  + 455y  z  + 1365x  z  + 15015x  y*z  + 75075x y z  +\n",
       "--------------------------------------------------------------------------\n",
       "       8 3 4          7 4 4          6 5 4          5 6 4          4 7 4  \n",
       "225225x y z  + 450450x y z  + 630630x y z  + 630630x y z  + 450450x y z  +\n",
       "--------------------------------------------------------------------------\n",
       "       3 8 4         2 9 4           10 4        11 4        10 5  \n",
       "225225x y z  + 75075x y z  + 15015x*y  z  + 1365y  z  + 3003x  z  +\n",
       "--------------------------------------------------------------------------\n",
       "      9   5          8 2 5          7 3 5          6 4 5          5 5 5  \n",
       "30030x y*z  + 135135x y z  + 360360x y z  + 630630x y z  + 756756x y z  +\n",
       "--------------------------------------------------------------------------\n",
       "       4 6 5          3 7 5          2 8 5           9 5        10 5  \n",
       "630630x y z  + 360360x y z  + 135135x y z  + 30030x*y z  + 3003y  z  +\n",
       "--------------------------------------------------------------------------\n",
       "     9 6         8   6          7 2 6          6 3 6          5 4 6  \n",
       "5005x z  + 45045x y*z  + 180180x y z  + 420420x y z  + 630630x y z  +\n",
       "--------------------------------------------------------------------------\n",
       "       4 5 6          3 6 6          2 7 6           8 6        9 6  \n",
       "630630x y z  + 420420x y z  + 180180x y z  + 45045x*y z  + 5005y z  +\n",
       "--------------------------------------------------------------------------\n",
       "     8 7         7   7          6 2 7          5 3 7          4 4 7  \n",
       "6435x z  + 51480x y*z  + 180180x y z  + 360360x y z  + 450450x y z  +\n",
       "--------------------------------------------------------------------------\n",
       "       3 5 7          2 6 7           7 7        8 7        7 8  \n",
       "360360x y z  + 180180x y z  + 51480x*y z  + 6435y z  + 6435x z  +\n",
       "--------------------------------------------------------------------------\n",
       "      6   8          5 2 8          4 3 8          3 4 8          2 5 8  \n",
       "45045x y*z  + 135135x y z  + 225225x y z  + 225225x y z  + 135135x y z  +\n",
       "--------------------------------------------------------------------------\n",
       "        6 8        7 8        6 9         5   9         4 2 9  \n",
       "45045x*y z  + 6435y z  + 5005x z  + 30030x y*z  + 75075x y z  +\n",
       "--------------------------------------------------------------------------\n",
       "       3 3 9         2 4 9           5 9        6 9        5 10  \n",
       "100100x y z  + 75075x y z  + 30030x*y z  + 5005y z  + 3003x z   +\n",
       "--------------------------------------------------------------------------\n",
       "      4   10         3 2 10         2 3 10           4 10        5 10  \n",
       "15015x y*z   + 30030x y z   + 30030x y z   + 15015x*y z   + 3003y z   +\n",
       "--------------------------------------------------------------------------\n",
       "     4 11        3   11        2 2 11          3 11        4 11       3 12\n",
       "1365x z   + 5460x y*z   + 8190x y z   + 5460x*y z   + 1365y z   + 455x z  \n",
       "--------------------------------------------------------------------------\n",
       "       2   12          2 12       3 12       2 13           13       2 13\n",
       "+ 1365x y*z   + 1365x*y z   + 455y z   + 105x z   + 210x*y*z   + 105y z  \n",
       "--------------------------------------------------------------------------\n",
       "       14        14    15\n",
       "+ 15x*z   + 15y*z   + z\n",
       "<span style=\"color: gray\">R</span></pre></pre>"
      ]
     },
     "execution_count": 21,
     "metadata": {},
     "output_type": "execute_result"
    }
   ],
   "source": [
    "(x+y+z)^15"
   ]
  },
  {
   "cell_type": "code",
   "execution_count": 22,
   "metadata": {},
   "outputs": [
    {
     "data": {
      "text/html": [
       "<pre><pre>| x2 y2 z2 |\n",
       "<span style=\"color: gray\">        1       3\n",
       "Matrix R  <--- R</span></pre></pre>"
      ]
     },
     "execution_count": 22,
     "metadata": {},
     "output_type": "execute_result"
    }
   ],
   "source": [
    "c = matrix {{x^2,y^2,z^2}}"
   ]
  },
  {
   "cell_type": "code",
   "execution_count": 23,
   "metadata": {},
   "outputs": [
    {
     "data": {
      "text/html": [
       "<pre><pre>image {2} | -y2 0   -z2 |\n",
       "      {2} | x2  -z2 0   |\n",
       "      {2} | 0   y2  x2  |\n",
       "<span style=\"color: gray\">                        3\n",
       "R-module, submodule of R</span></pre></pre>"
      ]
     },
     "execution_count": 23,
     "metadata": {},
     "output_type": "execute_result"
    }
   ],
   "source": [
    "N = ker c"
   ]
  },
  {
   "cell_type": "code",
   "execution_count": 24,
   "metadata": {},
   "outputs": [
    {
     "data": {
      "text/html": [
       "<pre><pre>Matrix{cache => CacheTable{...3...}}\n",
       "       RawMatrix => x2 y2 z2 \n",
       "\n",
       "       ring => R\n",
       "                  1\n",
       "       target => R\n",
       "                  3\n",
       "       source => R</pre></pre>"
      ]
     },
     "execution_count": 24,
     "metadata": {},
     "output_type": "execute_result"
    }
   ],
   "source": [
    "peek c"
   ]
  },
  {
   "cell_type": "code",
   "execution_count": 26,
   "metadata": {},
   "outputs": [
    {
     "name": "stdout",
     "output_type": "stream",
     "text": [
      "super\n",
      "\n",
      "ultra\n",
      "\n",
      "mega mania"
     ]
    },
    {
     "data": {
      "text/html": [
       "<pre><pre>3</pre></pre>"
      ]
     },
     "execution_count": 26,
     "metadata": {},
     "output_type": "execute_result"
    }
   ],
   "source": [
    "\n",
    "print(\"super\\n\\nultra\\n\\nmega mania\"); a=3"
   ]
  },
  {
   "cell_type": "code",
   "execution_count": 27,
   "metadata": {},
   "outputs": [
    {
     "data": {
      "text/html": [
       "<pre><pre>{1, 2, 3, 4}\n",
       "<span style=\"color: gray\">List</span></pre></pre>"
      ]
     },
     "execution_count": 27,
     "metadata": {},
     "output_type": "execute_result"
    }
   ],
   "source": [
    "lst = {1,2,3,4}"
   ]
  },
  {
   "cell_type": "code",
   "execution_count": 28,
   "metadata": {},
   "outputs": [
    {
     "data": {
      "text/html": [
       "<pre><pre>{1, 4, 9, 16}\n",
       "<span style=\"color: gray\">List</span></pre></pre>"
      ]
     },
     "execution_count": 28,
     "metadata": {},
     "output_type": "execute_result"
    }
   ],
   "source": [
    "for i in lst\n",
    "    list i^2"
   ]
  },
  {
   "cell_type": "code",
   "execution_count": 29,
   "metadata": {},
   "outputs": [
    {
     "data": {
      "text/html": [
       "<pre><pre>{1, 8, 27, 64}\n",
       "<span style=\"color: gray\">List</span></pre></pre>"
      ]
     },
     "execution_count": 29,
     "metadata": {},
     "output_type": "execute_result"
    }
   ],
   "source": [
    "lst / (a -> a^3)"
   ]
  },
  {
   "cell_type": "code",
   "execution_count": 30,
   "metadata": {},
   "outputs": [
    {
     "data": {
      "text/html": [
       "<pre><pre>print -- print something\n",
       "************************\n",
       "\n",
       "Synopsis\n",
       "========\n",
       "\n",
       "  * Usage:print x\n",
       "\n",
       "Description\n",
       "===========\n",
       "\n",
       "print x prints x on the standard output followed by a new line.\n",
       "\n",
       "+-------------------------+\n",
       "|i1 : print \"Hello world!\"|\n",
       "|Hello world!             |\n",
       "+-------------------------+\n",
       "\n",
       "The return value is \"null\".\n",
       "<span style=\"color: gray\">DIV</span></pre></pre>"
      ]
     },
     "execution_count": 30,
     "metadata": {},
     "output_type": "execute_result"
    }
   ],
   "source": [
    "help print"
   ]
  },
  {
   "cell_type": "code",
   "execution_count": 31,
   "metadata": {},
   "outputs": [
    {
     "data": {
      "text/html": [
       "<pre><pre>true</pre></pre>"
      ]
     },
     "execution_count": 31,
     "metadata": {},
     "output_type": "execute_result"
    }
   ],
   "source": [
    "null == null"
   ]
  },
  {
   "cell_type": "code",
   "execution_count": 33,
   "metadata": {},
   "outputs": [
    {
     "data": {
      "text/html": [
       "<pre><pre>2</pre></pre>"
      ]
     },
     "execution_count": 33,
     "metadata": {},
     "output_type": "execute_result"
    }
   ],
   "source": [
    "a=1;\n",
    "b=2"
   ]
  },
  {
   "cell_type": "code",
   "execution_count": 34,
   "metadata": {},
   "outputs": [
    {
     "name": "stdout",
     "output_type": "stream",
     "text": [
      "--    SPACE   2 (of class ZZ)\n",
      "--            1 (of class ZZ)\n",
      "stdio:30:6:(3): error: no method for assignment to adjacent objects:\n"
     ]
    }
   ],
   "source": [
    "a=1\n",
    "b=2"
   ]
  },
  {
   "cell_type": "code",
   "execution_count": null,
   "metadata": {
    "collapsed": true
   },
   "outputs": [],
   "source": []
  }
 ],
 "metadata": {
  "kernelspec": {
   "display_name": "M2",
   "language": "text",
   "name": "m2"
  },
  "language_info": {
   "file_extension": ".m2",
   "mimetype": "text/plain",
   "name": "Macaulay2"
  }
 },
 "nbformat": 4,
 "nbformat_minor": 2
}
